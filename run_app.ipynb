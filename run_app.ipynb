{
 "cells": [
  {
   "cell_type": "code",
   "execution_count": 34,
   "metadata": {},
   "outputs": [],
   "source": [
    "from util.util import importstr\n",
    "from util.logconf import logging\n",
    "import importlib\n",
    "import training\n",
    "import testing\n",
    "import ROC_evaluator\n",
    "importlib.reload(training)\n",
    "importlib.reload(testing)\n",
    "importlib.reload(ROC_evaluator)\n",
    "\n",
    "log = logging.getLogger('nb')\n",
    "\n",
    "def run(app, *argv):\n",
    "    argv = list(argv)\n",
    "    log.info(\"Running: {}({!r}).main()\".format(app, argv))\n",
    "    \n",
    "    app_cls = importstr(*app.rsplit('.', 1))  \n",
    "    app_cls(argv).main()\n",
    "    \n",
    "    log.info(\"Finished: {}.{!r}).main()\".format(app, argv))\n"
   ]
  },
  {
   "cell_type": "code",
   "execution_count": null,
   "metadata": {},
   "outputs": [],
   "source": [
    "run('training.SkinCancerClsTrainingApp', '--epochs=50')"
   ]
  },
  {
   "cell_type": "code",
   "execution_count": null,
   "metadata": {},
   "outputs": [],
   "source": [
    "run('training.SkinCancerClsTrainingApp', '--epochs=150')"
   ]
  },
  {
   "cell_type": "code",
   "execution_count": null,
   "metadata": {},
   "outputs": [],
   "source": [
    "run('training.SkinCancerClsTrainingApp', '--epochs=90')"
   ]
  },
  {
   "cell_type": "code",
   "execution_count": 31,
   "metadata": {},
   "outputs": [
    {
     "name": "stderr",
     "output_type": "stream",
     "text": [
      "2025-03-28 02:58:33,287 INFO     pid:4800 nb:015:run Running: testing.SkinCancerTestingApp(['--model-path=best_models/cls_3000samples_43epochs_best.state']).main()\n",
      "2025-03-28 02:58:33,643 INFO     pid:4800 testing:109:main Starting testing SkinCancerTestingApp, Namespace(batch_size=32, num_workers=8, model_path='best_models/cls_3000samples_43epochs_best.state', threshold=0.5)\n"
     ]
    },
    {
     "name": "stdout",
     "output_type": "stream",
     "text": [
      "Loaded best model from best_models/cls_3000samples_43epochs_best.state\n"
     ]
    },
    {
     "name": "stderr",
     "output_type": "stream",
     "text": [
      "2025-03-28 02:58:36,499 WARNING  pid:4800 util.util:043:enumerateWithEstimate testing  ----/21, starting\n",
      "2025-03-28 02:59:20,543 INFO     pid:4800 util.util:059:enumerateWithEstimate testing     0/21, expected completion at 2025-03-28 02:57:14, remaining time -1 day, 23:58:38\n",
      "2025-03-28 02:59:25,925 WARNING  pid:4800 util.util:071:enumerateWithEstimate testing  ----/21, done at 2025-03-28 02:59:25\n",
      "2025-03-28 02:59:25,942 INFO     pid:4800 testing:154:compute_log_metrics Test Metrics:\n",
      "2025-03-28 02:59:25,945 INFO     pid:4800 testing:155:compute_log_metrics Accuracy: 0.8439\n",
      "2025-03-28 02:59:25,946 INFO     pid:4800 testing:156:compute_log_metrics Positive Accuracy: 0.8545\n",
      "2025-03-28 02:59:25,946 INFO     pid:4800 testing:157:compute_log_metrics Negative Accuracy: 0.8333\n",
      "2025-03-28 02:59:25,947 INFO     pid:4800 testing:158:compute_log_metrics Precision: 0.8368\n",
      "2025-03-28 02:59:25,948 INFO     pid:4800 testing:159:compute_log_metrics Recall: 0.8545\n",
      "2025-03-28 02:59:25,948 INFO     pid:4800 testing:160:compute_log_metrics F1 Score: 0.8456\n",
      "2025-03-28 02:59:26,076 INFO     pid:4800 nb:020:run Finished: testing.SkinCancerTestingApp.['--model-path=best_models/cls_3000samples_43epochs_best.state']).main()\n"
     ]
    }
   ],
   "source": [
    "run('testing.SkinCancerTestingApp', '--model-path=''best_models/cls_3000samples_43epochs_best.state')"
   ]
  },
  {
   "cell_type": "code",
   "execution_count": 41,
   "metadata": {},
   "outputs": [
    {
     "name": "stderr",
     "output_type": "stream",
     "text": [
      "2025-03-28 03:18:53,693 INFO     pid:4800 nb:015:run Running: ROC_evaluator.ROCEvaluator(['--model-path=best_models/cls_3000samples_43epochs_best.state']).main()\n",
      "d:\\Deep Learning\\Projects\\Skin_cancer_detection\\ROC_evaluator.py:33: FutureWarning: You are using `torch.load` with `weights_only=False` (the current default value), which uses the default pickle module implicitly. It is possible to construct malicious pickle data which will execute arbitrary code during unpickling (See https://github.com/pytorch/pytorch/blob/main/SECURITY.md#untrusted-models for more details). In a future release, the default value for `weights_only` will be flipped to `True`. This limits the functions that could be executed during unpickling. Arbitrary objects will no longer be allowed to be loaded via this mode unless they are explicitly allowlisted by the user via `torch.serialization.add_safe_globals`. We recommend you start setting `weights_only=True` for any use case where you don't have full control of the loaded file. Please open an issue on GitHub for any issues related to this experimental feature.\n",
      "  model.load_state_dict(torch.load(model_path)['model_state'])\n",
      "2025-03-28 03:19:37,307 INFO     pid:4800 nb:020:run Finished: ROC_evaluator.ROCEvaluator.['--model-path=best_models/cls_3000samples_43epochs_best.state']).main()\n"
     ]
    },
    {
     "name": "stdout",
     "output_type": "stream",
     "text": [
      "AUC: 0.956\n",
      "Optimal Threshold (Youden's J): 0.572\n"
     ]
    }
   ],
   "source": [
    "run('ROC_evaluator.ROCEvaluator', '--model-path=''best_models/cls_3000samples_43epochs_best.state')"
   ]
  },
  {
   "cell_type": "code",
   "execution_count": 42,
   "metadata": {},
   "outputs": [
    {
     "name": "stderr",
     "output_type": "stream",
     "text": [
      "2025-03-28 03:19:51,250 INFO     pid:4800 nb:015:run Running: testing.SkinCancerTestingApp(['--model-path=best_models/cls_3000samples_43epochs_best.state', '--threshold=0.572']).main()\n",
      "d:\\Deep Learning\\Projects\\Skin_cancer_detection\\testing.py:81: FutureWarning: You are using `torch.load` with `weights_only=False` (the current default value), which uses the default pickle module implicitly. It is possible to construct malicious pickle data which will execute arbitrary code during unpickling (See https://github.com/pytorch/pytorch/blob/main/SECURITY.md#untrusted-models for more details). In a future release, the default value for `weights_only` will be flipped to `True`. This limits the functions that could be executed during unpickling. Arbitrary objects will no longer be allowed to be loaded via this mode unless they are explicitly allowlisted by the user via `torch.serialization.add_safe_globals`. We recommend you start setting `weights_only=True` for any use case where you don't have full control of the loaded file. Please open an issue on GitHub for any issues related to this experimental feature.\n",
      "  checkpoint = torch.load(model_path, map_location=torch.device('cuda' if torch.cuda.is_available() else 'cpu'))\n",
      "2025-03-28 03:19:51,569 INFO     pid:4800 testing:109:main Starting testing SkinCancerTestingApp, Namespace(batch_size=32, num_workers=8, model_path='best_models/cls_3000samples_43epochs_best.state', threshold=0.572)\n"
     ]
    },
    {
     "name": "stdout",
     "output_type": "stream",
     "text": [
      "Loaded best model from best_models/cls_3000samples_43epochs_best.state\n"
     ]
    },
    {
     "name": "stderr",
     "output_type": "stream",
     "text": [
      "2025-03-28 03:19:54,054 WARNING  pid:4800 util.util:043:enumerateWithEstimate testing  ----/21, starting\n",
      "2025-03-28 03:20:38,196 INFO     pid:4800 util.util:059:enumerateWithEstimate testing     0/21, expected completion at 2025-03-28 03:18:32, remaining time -1 day, 23:58:38\n",
      "2025-03-28 03:20:41,762 WARNING  pid:4800 util.util:071:enumerateWithEstimate testing  ----/21, done at 2025-03-28 03:20:41\n",
      "2025-03-28 03:20:41,778 INFO     pid:4800 testing:154:compute_log_metrics Test Metrics:\n",
      "2025-03-28 03:20:41,778 INFO     pid:4800 testing:155:compute_log_metrics Accuracy: 0.8485\n",
      "2025-03-28 03:20:41,778 INFO     pid:4800 testing:156:compute_log_metrics Positive Accuracy: 0.8000\n",
      "2025-03-28 03:20:41,778 INFO     pid:4800 testing:157:compute_log_metrics Negative Accuracy: 0.8970\n",
      "2025-03-28 03:20:41,788 INFO     pid:4800 testing:158:compute_log_metrics Precision: 0.8859\n",
      "2025-03-28 03:20:41,789 INFO     pid:4800 testing:159:compute_log_metrics Recall: 0.8000\n",
      "2025-03-28 03:20:41,789 INFO     pid:4800 testing:160:compute_log_metrics F1 Score: 0.8408\n",
      "2025-03-28 03:20:41,879 INFO     pid:4800 nb:020:run Finished: testing.SkinCancerTestingApp.['--model-path=best_models/cls_3000samples_43epochs_best.state', '--threshold=0.572']).main()\n"
     ]
    }
   ],
   "source": [
    "run('testing.SkinCancerTestingApp', '--model-path=''best_models/cls_3000samples_43epochs_best.state' , '--threshold=0.572')"
   ]
  },
  {
   "cell_type": "code",
   "execution_count": 40,
   "metadata": {},
   "outputs": [
    {
     "name": "stderr",
     "output_type": "stream",
     "text": [
      "2025-03-28 03:14:51,025 INFO     pid:4800 nb:015:run Running: testing.SkinCancerTestingApp(['--model-path=best_models/cls_3000samples_43epochs_best.state', '--threshold=0.52']).main()\n",
      "d:\\Deep Learning\\Projects\\Skin_cancer_detection\\testing.py:81: FutureWarning: You are using `torch.load` with `weights_only=False` (the current default value), which uses the default pickle module implicitly. It is possible to construct malicious pickle data which will execute arbitrary code during unpickling (See https://github.com/pytorch/pytorch/blob/main/SECURITY.md#untrusted-models for more details). In a future release, the default value for `weights_only` will be flipped to `True`. This limits the functions that could be executed during unpickling. Arbitrary objects will no longer be allowed to be loaded via this mode unless they are explicitly allowlisted by the user via `torch.serialization.add_safe_globals`. We recommend you start setting `weights_only=True` for any use case where you don't have full control of the loaded file. Please open an issue on GitHub for any issues related to this experimental feature.\n",
      "  checkpoint = torch.load(model_path, map_location=torch.device('cuda' if torch.cuda.is_available() else 'cpu'))\n",
      "2025-03-28 03:14:51,283 INFO     pid:4800 testing:109:main Starting testing SkinCancerTestingApp, Namespace(batch_size=32, num_workers=8, model_path='best_models/cls_3000samples_43epochs_best.state', threshold=0.52)\n"
     ]
    },
    {
     "name": "stdout",
     "output_type": "stream",
     "text": [
      "Loaded best model from best_models/cls_3000samples_43epochs_best.state\n"
     ]
    },
    {
     "name": "stderr",
     "output_type": "stream",
     "text": [
      "2025-03-28 03:14:53,336 WARNING  pid:4800 util.util:043:enumerateWithEstimate testing  ----/21, starting\n",
      "2025-03-28 03:15:40,452 INFO     pid:4800 util.util:059:enumerateWithEstimate testing     0/21, expected completion at 2025-03-28 03:13:25, remaining time -1 day, 23:58:32\n",
      "2025-03-28 03:15:44,563 WARNING  pid:4800 util.util:071:enumerateWithEstimate testing  ----/21, done at 2025-03-28 03:15:44\n",
      "2025-03-28 03:15:44,571 INFO     pid:4800 testing:154:compute_log_metrics Test Metrics:\n",
      "2025-03-28 03:15:44,572 INFO     pid:4800 testing:155:compute_log_metrics Accuracy: 0.8621\n",
      "2025-03-28 03:15:44,572 INFO     pid:4800 testing:156:compute_log_metrics Positive Accuracy: 0.8455\n",
      "2025-03-28 03:15:44,573 INFO     pid:4800 testing:157:compute_log_metrics Negative Accuracy: 0.8788\n",
      "2025-03-28 03:15:44,573 INFO     pid:4800 testing:158:compute_log_metrics Precision: 0.8746\n",
      "2025-03-28 03:15:44,574 INFO     pid:4800 testing:159:compute_log_metrics Recall: 0.8455\n",
      "2025-03-28 03:15:44,574 INFO     pid:4800 testing:160:compute_log_metrics F1 Score: 0.8598\n",
      "2025-03-28 03:15:44,660 INFO     pid:4800 nb:020:run Finished: testing.SkinCancerTestingApp.['--model-path=best_models/cls_3000samples_43epochs_best.state', '--threshold=0.52']).main()\n"
     ]
    }
   ],
   "source": [
    "run('testing.SkinCancerTestingApp', '--model-path=''best_models/cls_3000samples_43epochs_best.state' , '--threshold=0.52')"
   ]
  }
 ],
 "metadata": {
  "kernelspec": {
   "display_name": "Python 3",
   "language": "python",
   "name": "python3"
  },
  "language_info": {
   "codemirror_mode": {
    "name": "ipython",
    "version": 3
   },
   "file_extension": ".py",
   "mimetype": "text/x-python",
   "name": "python",
   "nbconvert_exporter": "python",
   "pygments_lexer": "ipython3",
   "version": "3.12.0"
  }
 },
 "nbformat": 4,
 "nbformat_minor": 2
}
